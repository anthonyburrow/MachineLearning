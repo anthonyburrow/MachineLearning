{
 "cells": [
  {
   "cell_type": "markdown",
   "metadata": {},
   "source": [
    "# Try This Exercises\n",
    "\n",
    "These several exercises have two purposes - practice concepts of probability, but also practice latex and markdown.  "
   ]
  },
  {
   "cell_type": "markdown",
   "metadata": {},
   "source": [
    "### Problem 1\n",
    "\n",
    "Suppose that the probability of exposure to the flux during an epidemic is 0.6.  Experience has shown that a serum is 80% successful in preventing an inoculated person from acquiring the flux, if exposed.  A person not innoculated faces a probability of 0.90 of acquiring the flux if exposed.  Two persons, one inoculated and one not, are capable of performing a essential task in business.  Assume that they are not at the same location, are not in contact with the same people, and cannot expose one another.  What is the probability that at least one will get the flu?"
   ]
  },
  {
   "cell_type": "markdown",
   "metadata": {},
   "source": [
    "#### Answer:"
   ]
  },
  {
   "cell_type": "markdown",
   "metadata": {},
   "source": [
    "$A_1 \\rightarrow$ person 1 (inoculated) gets the flu(x)\n",
    "\n",
    "$A_2 \\rightarrow$ person 2 (not inoculated) gets the flu(x)"
   ]
  },
  {
   "cell_type": "markdown",
   "metadata": {},
   "source": [
    "The prbability of $A_i$ occuring is the probability of exposure, $P(E) = 0.6$, times the probability of acquiring the flu(x) after exposure, $P(F_i)$, so that\n",
    "$$\n",
    "\\begin{aligned}\n",
    "P(A_1) &= P(E) P(F_1) = 0.6 \\times 0.2 \\\\\n",
    "&= 0.12, \\\\\n",
    "P(A_2) &= P(E) P(F_2) = 0.6 \\times 0.9 \\\\\n",
    "&= 0.54.\n",
    "\\end{aligned}\n",
    "$$"
   ]
  },
  {
   "cell_type": "markdown",
   "metadata": {},
   "source": [
    "We are looking for $P(A \\cup B)$, which describes the probability of at least one person getting the flu(x), which is just\n",
    "$$\n",
    "\\begin{aligned}\n",
    "P(A_1 \\cup A_2)\n",
    "&= P(A_1) + P(A_2) - P(A_1 \\cap A_2) \\\\\n",
    "&= P(A_1) + P(A_2) - P(A_1) P(A_2) \\\\\n",
    "&= 0.12 + 0.54 - (0.12) (0.54) \\\\\n",
    "&\\approx \\boxed{0.60},\n",
    "\\end{aligned}\n",
    "$$\n",
    "where $P(A_1 \\cap A_2) = P(A_1) P(A_2)$ because persons 1 and 2 have no contact with each other or the same people."
   ]
  },
  {
   "cell_type": "code",
   "execution_count": 1,
   "metadata": {},
   "outputs": [
    {
     "data": {
      "text/plain": [
       "0.5952000000000001"
      ]
     },
     "execution_count": 1,
     "metadata": {},
     "output_type": "execute_result"
    }
   ],
   "source": [
    "p_A1 = 0.12\n",
    "p_A2 = 0.54\n",
    "p_A1_and_A2 = p_A1 + p_A2 - p_A1 * p_A2\n",
    "p_A1_and_A2"
   ]
  },
  {
   "cell_type": "markdown",
   "metadata": {},
   "source": [
    "### Problem 2\n",
    "\n",
    "An accident victim will die unless he receives in the next 10 minutes an amount of type A Rh-positive blood that can be supplied by a single donor.  It requires two minutes to \"type\" a prospective donor's blood and 2 minutes to complete the transfer of blood.  A large number of untyped donors are available and 40% of them have type A Rh-postive blood.  What is the probability that the accident victim will be saved if there is only one blood-typing kit available?"
   ]
  },
  {
   "cell_type": "markdown",
   "metadata": {},
   "source": [
    "#### Answer:"
   ]
  },
  {
   "cell_type": "markdown",
   "metadata": {},
   "source": [
    "This is just an example of a binomial distribution. The probability of success is $p = 0.4$ and we are allowed $n = 4$ trials with 2 extra minutes to transfer the blood. We are looking for $P(X \\geq 1, n, p)$, and this is just\n",
    "$$\n",
    "\\begin{aligned}\n",
    "P(X \\geq 1, n, p)\n",
    "&= 1 - P(X = 0, n, p) \\\\\n",
    "&= 1 - (1 - p)^n \\\\\n",
    "&= 1 - (1 - 0.4)^4 \\\\\n",
    "&= \\boxed{0.87},\n",
    "\\end{aligned}\n",
    "$$\n",
    "where $P(X = 0, n, p)$ is just given by a binomial distribution for $X = 0$ successes."
   ]
  },
  {
   "cell_type": "code",
   "execution_count": 2,
   "metadata": {},
   "outputs": [
    {
     "data": {
      "text/plain": [
       "0.8704000000000001"
      ]
     },
     "execution_count": 2,
     "metadata": {},
     "output_type": "execute_result"
    }
   ],
   "source": [
    "n = 4\n",
    "p = 0.4\n",
    "p_0 = 1 - (1 - p)**n\n",
    "p_0"
   ]
  },
  {
   "cell_type": "markdown",
   "metadata": {},
   "source": [
    "### Problem 3\n",
    "\n",
    "An assembler of electric fans uses motors from two sources.  Company A supplies 90% of the motors, and company B supplies the other 10 percent.  Suppose it is known that 5% of the motors supplied by company A are defective, and 3% of the motors supplied by company B are defective.  An assembled fan is found to have a defective motor.  What is the probability that this motor was supplied by company B?"
   ]
  },
  {
   "cell_type": "markdown",
   "metadata": {},
   "source": [
    "#### Answer:"
   ]
  },
  {
   "cell_type": "markdown",
   "metadata": {},
   "source": [
    "$A \\rightarrow$ the motor was supplied from company A\n",
    "\n",
    "$B \\rightarrow$ the motor was supplied from company B\n",
    "\n",
    "$D \\rightarrow$ the fan has a defective motor"
   ]
  },
  {
   "cell_type": "markdown",
   "metadata": {},
   "source": [
    "We are looking for the probability that the motor was supplied from company B ($B$) given that the fan has a defective motor ($D$), or in other words, $P(B | D)$. By Bayes theorem, we know that\n",
    "$$\n",
    "\\begin{aligned}\n",
    "P(B | D) &= \\frac{P(D | B) P(B)}{P(D)}.\n",
    "\\end{aligned}\n",
    "$$"
   ]
  },
  {
   "cell_type": "markdown",
   "metadata": {},
   "source": [
    "Here, $P(B) = 0.10$ is the fraction from company B, and $P(D | B) = 0.03$ is the defective rate from company B. The expected defection rate $P(D)$ is just given by\n",
    "$$\n",
    "\\begin{aligned}\n",
    "P(D)\n",
    "&= P(A) P(D | A) + P(B) P(D | B) \\\\\n",
    "&= 0.9 * 0.05 + 0.1 * 0.03 \\\\\n",
    "&= 0.048.\n",
    "\\end{aligned}\n",
    "$$"
   ]
  },
  {
   "cell_type": "code",
   "execution_count": 3,
   "metadata": {},
   "outputs": [
    {
     "data": {
      "text/plain": [
       "0.04800000000000001"
      ]
     },
     "execution_count": 3,
     "metadata": {},
     "output_type": "execute_result"
    }
   ],
   "source": [
    "p_A = 0.9\n",
    "p_D_giv_A = 0.05\n",
    "p_B = 0.1\n",
    "p_D_giv_B = 0.03\n",
    "\n",
    "p_D = p_A * p_D_giv_A + p_B * p_D_giv_B\n",
    "p_D"
   ]
  },
  {
   "cell_type": "markdown",
   "metadata": {},
   "source": [
    "Thus,\n",
    "$$\n",
    "\\begin{aligned}\n",
    "P(B | D)\n",
    "&= \\frac{0.03 \\times 0.10}{0.048} \\\\\n",
    "&= \\boxed{0.0625}.\n",
    "\\end{aligned}\n",
    "$$"
   ]
  },
  {
   "cell_type": "code",
   "execution_count": 4,
   "metadata": {},
   "outputs": [
    {
     "data": {
      "text/plain": [
       "0.06249999999999999"
      ]
     },
     "execution_count": 4,
     "metadata": {},
     "output_type": "execute_result"
    }
   ],
   "source": [
    "p_B_giv_D = p_D_giv_B * p_B / p_D\n",
    "p_B_giv_D"
   ]
  }
 ],
 "metadata": {
  "kernelspec": {
   "display_name": "Python 3",
   "language": "python",
   "name": "python3"
  },
  "language_info": {
   "codemirror_mode": {
    "name": "ipython",
    "version": 3
   },
   "file_extension": ".py",
   "mimetype": "text/x-python",
   "name": "python",
   "nbconvert_exporter": "python",
   "pygments_lexer": "ipython3",
   "version": "3.8.0"
  }
 },
 "nbformat": 4,
 "nbformat_minor": 4
}
