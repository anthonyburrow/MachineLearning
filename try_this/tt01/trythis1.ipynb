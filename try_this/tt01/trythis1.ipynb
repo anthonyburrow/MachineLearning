{
 "cells": [
  {
   "cell_type": "markdown",
   "metadata": {},
   "source": [
    "# Try this\n",
    "\n",
    "This is the first of the \"try this\" exercises.  Work these exercise and upload the notebook to Canvas.  "
   ]
  },
  {
   "cell_type": "markdown",
   "metadata": {},
   "source": [
    "## 1.  Vectorized Computation and Methods\n",
    "\n",
    "Students who are familiar with C and Fortran may not be familiar with the advantage of the  vectorized computations or the built-in methods in Canvas.  This problem will demonstrate the speed advantage of this methods.\n",
    "\n",
    "1. Familiarize yourself with the usage of the `time` module built into Python. This module allows you to time snippets of Python code.\n",
    "2. Write a function that does the problem below using old-school methods, i.e., don't take advantage of the built in capabilities of python, but rather do the computation solely using loops.\n",
    "3. Write a second function that does the problem using the vectorized computation and the '.sum' method in python.\n",
    "4. Time both functions and compare the results.\n",
    "\n",
    "The problem:  Given the two 10,000 element vectors below, multiply the vectors together element by element, and then add together all the values of the result."
   ]
  },
  {
   "cell_type": "code",
   "execution_count": 1,
   "metadata": {},
   "outputs": [],
   "source": [
    "import numpy as np\n",
    "import time"
   ]
  },
  {
   "cell_type": "code",
   "execution_count": 2,
   "metadata": {},
   "outputs": [],
   "source": [
    "v1 = np.linspace(-5, 5, 10000)\n",
    "v2 = np.linspace(-3, 3, 10000)"
   ]
  },
  {
   "cell_type": "code",
   "execution_count": 3,
   "metadata": {},
   "outputs": [],
   "source": [
    "def old_school(v1, v2):\n",
    "    # first create a vector to hold the results of the multiplication\n",
    "    n = len(v1)\n",
    "    mult_vect = np.zeros(n)\n",
    "\n",
    "    # now loop through all values and fill this vector\n",
    "    for i in range(n):\n",
    "        mult_vect[i] = v1[i] * v2[i]\n",
    "\n",
    "    # now make a loop that sums up mult_vect\n",
    "    vec_sum = 0.\n",
    "    for i in range(n):\n",
    "        vec_sum += mult_vect[i]\n",
    "\n",
    "    return vec_sum\n",
    "\n",
    "def vectorized(v1, v2):\n",
    "    vec_sum = (v1 * v2).sum()\n",
    "    return vec_sum"
   ]
  },
  {
   "cell_type": "code",
   "execution_count": 4,
   "metadata": {},
   "outputs": [
    {
     "name": "stdout",
     "output_type": "stream",
     "text": [
      "50010.00100009993\n",
      "0.008008718490600586\n"
     ]
    }
   ],
   "source": [
    "t0 = time.time()\n",
    "\n",
    "print(old_school(v1, v2))\n",
    "print(time.time() - t0)"
   ]
  },
  {
   "cell_type": "code",
   "execution_count": 5,
   "metadata": {},
   "outputs": [
    {
     "name": "stdout",
     "output_type": "stream",
     "text": [
      "50010.00100010002\n",
      "0.0\n"
     ]
    }
   ],
   "source": [
    "t1 = time.time()\n",
    "\n",
    "print(vectorized(v1, v2))\n",
    "print(time.time() - t1)"
   ]
  },
  {
   "cell_type": "markdown",
   "metadata": {},
   "source": [
    "So, according to this simple experiment, the vectorized / method way allowed by python is about 10 times faster than the old-school method.\n",
    "\n",
    ">This speed increase was different using my CPU, and also it's hard to get a good measure of the speed difference when you use just 10,000 elements under a simple calculation (which is why my $dt$ with the vectorized function is 0.0). Usually speed tests are conducted under different values of N.\n",
    "\n",
    "Note that the `time` method outlined above is not really the best way to do this; `timeit` offers a more accurate way."
   ]
  },
  {
   "cell_type": "markdown",
   "metadata": {},
   "source": [
    "## 2. A Useful Python Resource\n",
    "\n",
    "Describe and discuss a python resource (book, webpage, blog, tutorial, etc) that you found that has either proven to be particularly useful, or looks like it will be useful (if you are a novice.) \n",
    "\n",
    "For example, when I was first trying to learn python, I used notebooks and videos from the [Berkeley Python Boot Camp](https://sites.google.com/site/pythonbootcamp/), because somebody had recommended it.  \n",
    "\n",
    "I'll gather all of these recommended together and post them on Canvas (anonymously)."
   ]
  },
  {
   "cell_type": "markdown",
   "metadata": {},
   "source": [
    ">I am not very familiar with any formal Python tutorial resources in the form of books. I learned a lot of programming skills through C#, where I would use a mobile app (SoloLearn) for syntax, and at the same time I followed a detailed video game design tutorial on YouTube. By the time I moved to Python, I knew enough to just look up case-by-case tutorials for syntax and other tricks that make code more Pythonic. These all came from different places (looking at Stack Overflow & documentation of individual libraries are honestly the best way for me to learn).\n",
    ">\n",
    ">In my searches, though, something memorable was a YouTube channel called \"sentdex\" (https://www.youtube.com/user/sentdex) that goes through a vast number of beginner to advanced programming concepts. Recently, the channel has actually started an in-depth machine learning course (although I haven't watched it)."
   ]
  },
  {
   "cell_type": "markdown",
   "metadata": {},
   "source": [
    "## 3. A Useful Python Trick\n",
    "\n",
    "If you have already used python, describe and discuss briefly a python trick that you have found to be particularly useful, and illustrate its use.\n",
    "\n",
    "If you are a python novice, use your google mojo and find a python trick to describe and discuss that seems as though it will be useful, and see if you can illustrate its use.\n",
    "\n",
    "For example, I recently learned about `enumerate` which allows you to build a loop that both returns an index and also the value.  Thus it can be a handy combination of `in range`, and `in`.  Illustrated below.\n",
    "\n",
    "I'll gather all of these recommended together and post them on Canvas (anonymously)."
   ]
  },
  {
   "cell_type": "code",
   "execution_count": 6,
   "metadata": {},
   "outputs": [
    {
     "name": "stdout",
     "output_type": "stream",
     "text": [
      "0 apple\n",
      "1 banana\n",
      "2 grapes\n",
      "3 pear\n",
      "0 apple\n",
      "1 banana\n",
      "2 grapes\n",
      "3 pear\n",
      "apple\n",
      "banana\n",
      "grapes\n",
      "pear\n"
     ]
    }
   ],
   "source": [
    "# use enumerate\n",
    "\n",
    "my_list = ['apple', 'banana', 'grapes', 'pear']\n",
    "for counter, value in enumerate(my_list):\n",
    "    print (counter, value)\n",
    "    \n",
    "# the same thing can be done using range\n",
    "\n",
    "for counter in range(len(my_list)):\n",
    "    print (counter,my_list[counter])\n",
    "    \n",
    "# but if you use in by itself, you don't get the counter.\n",
    "\n",
    "for value in (my_list):\n",
    "    print (value)"
   ]
  },
  {
   "cell_type": "markdown",
   "metadata": {},
   "source": [
    ">I wouldn't call it a trick, but decorators are useful tools that allow you to implement the same functionality to multiple different functions without having to write that same code multiple times.\n",
    ">\n",
    ">For example, below I illustrated a (not exactly perfect) timing function that works the same way as that in problem 1, but this time in the form of a decorator."
   ]
  },
  {
   "cell_type": "code",
   "execution_count": 7,
   "metadata": {},
   "outputs": [],
   "source": [
    "import time"
   ]
  },
  {
   "cell_type": "code",
   "execution_count": 8,
   "metadata": {},
   "outputs": [],
   "source": [
    "def timing(f):\n",
    "    \"\"\"Time a function.\"\"\"\n",
    "    def wrapper(*args, **kwargs):\n",
    "        t0 = time.time()\n",
    "        ret = f(*args, **kwargs)\n",
    "        t1 = time.time()\n",
    "        print(f'{f.__name__} took {(t1 - t0) * 1000.0:.3f} ms')\n",
    "        return ret\n",
    "    return wrapper"
   ]
  },
  {
   "cell_type": "code",
   "execution_count": 9,
   "metadata": {},
   "outputs": [],
   "source": [
    "# add decorator functionality to this function\n",
    "@timing\n",
    "def long_process(t):\n",
    "    time.sleep(t)"
   ]
  },
  {
   "cell_type": "code",
   "execution_count": 10,
   "metadata": {},
   "outputs": [
    {
     "name": "stdout",
     "output_type": "stream",
     "text": [
      "long_process took 1000.022 ms\n"
     ]
    }
   ],
   "source": [
    "long_process(1)"
   ]
  }
 ],
 "metadata": {
  "kernelspec": {
   "display_name": "Python 3",
   "language": "python",
   "name": "python3"
  },
  "language_info": {
   "codemirror_mode": {
    "name": "ipython",
    "version": 3
   },
   "file_extension": ".py",
   "mimetype": "text/x-python",
   "name": "python",
   "nbconvert_exporter": "python",
   "pygments_lexer": "ipython3",
   "version": "3.8.0"
  }
 },
 "nbformat": 4,
 "nbformat_minor": 4
}
