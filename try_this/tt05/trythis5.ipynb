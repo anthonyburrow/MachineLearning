{
 "cells": [
  {
   "cell_type": "markdown",
   "metadata": {},
   "source": [
    "# Try this exercise"
   ]
  },
  {
   "cell_type": "code",
   "execution_count": 1,
   "metadata": {},
   "outputs": [],
   "source": [
    "import numpy as np\n",
    "import scipy.stats as ss\n",
    "import matplotlib.pyplot as plt"
   ]
  },
  {
   "cell_type": "markdown",
   "metadata": {},
   "source": [
    "## Problem 1\n",
    "\n",
    "It is said that the non-parametric Spearman Rank test is \"efficient\", by which it is meant that when the Spearman Rank test is run on gaussian distributed data, it performs as well as the Pearson's correlation coefficient.  More specifically, if you run the Spearman rank correlation on a set of data, and you run the Pearson's test on the same set of data, the Spearman test will yield the same level of significance as the Pearson's test some large fraction $X$ of the time.\n",
    "\n",
    "Your job in this problem is to design a numerical experiment to test this statement and to evaluate $X$."
   ]
  },
  {
   "cell_type": "markdown",
   "metadata": {},
   "source": [
    "### Answer:"
   ]
  },
  {
   "cell_type": "markdown",
   "metadata": {},
   "source": [
    "To look at the difference in these statistics, I do 1,000 trials of the following procedure. I generate a random bivariate normal distribution and then take a sample of 3,000 from this population. From this sample, I calculate the Pearson's $r$ and Spearman coefficient, and look at their absolute percent difference. Finally, I calculated $X$ to be the number of percent differences that are under 5% (my arbitrary decision) divided by the total number of trials, 1,000.\n",
    "\n",
    "We see that this is indeed a large fraction, $X \\approx 0.98$ (on this run of the code). We see that indeed for about 98% of the time the Spearman coefficient will approximate the Pearson coefficient within 5% of its value."
   ]
  },
  {
   "cell_type": "code",
   "execution_count": 2,
   "metadata": {},
   "outputs": [
    {
     "name": "stdout",
     "output_type": "stream",
     "text": [
      "0.982\n"
     ]
    }
   ],
   "source": [
    "def gen_sample(N=3000, dim=2):\n",
    "    '''Generate a sample from a random bivariate normal (around zero).'''\n",
    "    mu = np.zeros(dim)\n",
    "    \n",
    "    # Make random semi-positive definite covariance matrix)\n",
    "    M = np.random.rand(dim, dim)\n",
    "    cov = np.dot(M, M.T)\n",
    "\n",
    "    # Calculate statistics from a sample of the population\n",
    "    X = np.random.multivariate_normal(mu, cov, size=N)\n",
    "    \n",
    "    return X\n",
    "    \n",
    "def pear_spear(X):\n",
    "    r, p = ss.pearsonr(X[:, 0], X[:, 1])\n",
    "    rs, ps = ss.spearmanr(X)\n",
    "\n",
    "    return r, rs\n",
    "\n",
    "n_tests = 1000\n",
    "coefficients = np.array([pear_spear(gen_sample()) for i in range(n_tests)])\n",
    "p_diff = abs(coefficients[:, 0] - coefficients[:, 1]) / coefficients[:, 0]\n",
    "mask = p_diff < 0.05\n",
    "X = len(coefficients[mask]) / n_tests\n",
    "print(X)"
   ]
  },
  {
   "cell_type": "markdown",
   "metadata": {},
   "source": [
    "## Problem 2\n",
    "\n",
    "Do the same experiment for the Kendall's Tau.\n",
    "\n",
    "**Hint:** I'd be inclined to use the built-in `scipy.stats` methods instead of computing the results myself."
   ]
  },
  {
   "cell_type": "markdown",
   "metadata": {},
   "source": [
    "### Answer:"
   ]
  },
  {
   "cell_type": "markdown",
   "metadata": {},
   "source": [
    "I tested the Kendall's Tau statistic against the Pearson coefficient in the same manner. This time, however, I found that the fraction is much smaller, $X \\approx 0.12$. This is likely because, with a large ($N = 3000$) sample size, the Kendall's Tau does not compare well in general to the Pearson coefficient (as stated in the lecture notebook). Therefore, this is not generally a good comparison to Pearson's $r$ in general."
   ]
  },
  {
   "cell_type": "code",
   "execution_count": 3,
   "metadata": {},
   "outputs": [
    {
     "name": "stdout",
     "output_type": "stream",
     "text": [
      "0.124\n"
     ]
    }
   ],
   "source": [
    "def pear_tau(X):\n",
    "    r, p = ss.pearsonr(X[:, 0], X[:, 1])\n",
    "    rt, pt = ss.kendalltau(X[:, 0], X[:, 1])\n",
    "\n",
    "    return r, rt\n",
    "    \n",
    "n_tests = 1000\n",
    "coefficients = np.array([pear_tau(gen_sample()) for i in range(n_tests)])\n",
    "p_diff = abs(coefficients[:, 0] - coefficients[:, 1]) / coefficients[:, 0]\n",
    "mask = p_diff < 0.05\n",
    "X = len(coefficients[mask]) / n_tests\n",
    "print(X)"
   ]
  }
 ],
 "metadata": {
  "kernelspec": {
   "display_name": "Python 3",
   "language": "python",
   "name": "python3"
  },
  "language_info": {
   "codemirror_mode": {
    "name": "ipython",
    "version": 3
   },
   "file_extension": ".py",
   "mimetype": "text/x-python",
   "name": "python",
   "nbconvert_exporter": "python",
   "pygments_lexer": "ipython3",
   "version": "3.8.0"
  }
 },
 "nbformat": 4,
 "nbformat_minor": 4
}
