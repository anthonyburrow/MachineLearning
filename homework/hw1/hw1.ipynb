{
 "cells": [
  {
   "cell_type": "markdown",
   "metadata": {},
   "source": [
    "# Homework 1\n",
    "\n",
    "## ASTR 5900, Fall 2020, University of Oklahoma"
   ]
  },
  {
   "cell_type": "markdown",
   "metadata": {},
   "source": [
    "# Problem 1\n",
    "\n",
    "Complete each section in their following cell(s)."
   ]
  },
  {
   "cell_type": "markdown",
   "metadata": {},
   "source": [
    "### Part A\n",
    "\n",
    "Import a crucial python library titled `numpy` that is used for fast, element-wise computations.  You may also give it a short alias such as `np` because we will be calling many functions from this library.  \n",
    "\n",
    "This is not a default python package so if you are not using an online notebook environment like SciServer, so it must be installed manually."
   ]
  },
  {
   "cell_type": "code",
   "execution_count": 1,
   "metadata": {},
   "outputs": [],
   "source": [
    "import numpy as np"
   ]
  },
  {
   "cell_type": "markdown",
   "metadata": {},
   "source": [
    "### Part B\n",
    "\n",
    "Complete these function definitions as described by their docstrings.  Call each function, with parameters if applicable."
   ]
  },
  {
   "cell_type": "code",
   "execution_count": 2,
   "metadata": {},
   "outputs": [
    {
     "name": "stdout",
     "output_type": "stream",
     "text": [
      "Hello World!\n"
     ]
    }
   ],
   "source": [
    "def hello():\n",
    "    \"\"\"Print 'Hello World!'\"\"\"\n",
    "    print('Hello World!')\n",
    "\n",
    "hello()"
   ]
  },
  {
   "cell_type": "code",
   "execution_count": 3,
   "metadata": {},
   "outputs": [
    {
     "name": "stdout",
     "output_type": "stream",
     "text": [
      "8\n"
     ]
    }
   ],
   "source": [
    "def power(a, b):\n",
    "    \"\"\"Return a^b\"\"\"\n",
    "    return a**b\n",
    "\n",
    "print(power(2, 3))"
   ]
  },
  {
   "cell_type": "markdown",
   "metadata": {},
   "source": [
    "### Part C\n",
    "\n",
    "Write a function that takes a list of numbers as an argument and returns a list of numbers that are squares of the originals (with the same indexing).  Do this with default python."
   ]
  },
  {
   "cell_type": "code",
   "execution_count": 4,
   "metadata": {},
   "outputs": [],
   "source": [
    "def sq_list(ls):\n",
    "    return [elem**2 for elem in ls]"
   ]
  },
  {
   "cell_type": "markdown",
   "metadata": {},
   "source": [
    "### Part D\n",
    "Now write a function that takes an array-like argument and returns a numpy array of numbers that are squares of the originals.  This must be performed with the `numpy` package using element-wise number operations.  Note this can be done in two simple lines!\n"
   ]
  },
  {
   "cell_type": "code",
   "execution_count": 5,
   "metadata": {},
   "outputs": [],
   "source": [
    "def sq_arr(arr):\n",
    "    return arr**2"
   ]
  },
  {
   "cell_type": "markdown",
   "metadata": {},
   "source": [
    "### Part E\n",
    "\n",
    "Write a function that prints every number from 1 to 100 inclusive.  For every number that is divisible by 3 print the string 'Fizz' instead.  For every number that is divisible by 5 print 'Buzz' instead.  If the number is divisible by 3 AND 5 print 'FizzBuzz'.  Call this function."
   ]
  },
  {
   "cell_type": "code",
   "execution_count": 6,
   "metadata": {},
   "outputs": [
    {
     "name": "stdout",
     "output_type": "stream",
     "text": [
      "1\n",
      "2\n",
      "Fizz\n",
      "4\n",
      "Buzz\n",
      "Fizz\n",
      "7\n",
      "8\n",
      "Fizz\n",
      "Buzz\n",
      "11\n",
      "Fizz\n",
      "13\n",
      "14\n",
      "FizzBuzz\n",
      "16\n",
      "17\n",
      "Fizz\n",
      "19\n",
      "Buzz\n",
      "Fizz\n",
      "22\n",
      "23\n",
      "Fizz\n",
      "Buzz\n",
      "26\n",
      "Fizz\n",
      "28\n",
      "29\n",
      "FizzBuzz\n",
      "31\n",
      "32\n",
      "Fizz\n",
      "34\n",
      "Buzz\n",
      "Fizz\n",
      "37\n",
      "38\n",
      "Fizz\n",
      "Buzz\n",
      "41\n",
      "Fizz\n",
      "43\n",
      "44\n",
      "FizzBuzz\n",
      "46\n",
      "47\n",
      "Fizz\n",
      "49\n",
      "Buzz\n",
      "Fizz\n",
      "52\n",
      "53\n",
      "Fizz\n",
      "Buzz\n",
      "56\n",
      "Fizz\n",
      "58\n",
      "59\n",
      "FizzBuzz\n",
      "61\n",
      "62\n",
      "Fizz\n",
      "64\n",
      "Buzz\n",
      "Fizz\n",
      "67\n",
      "68\n",
      "Fizz\n",
      "Buzz\n",
      "71\n",
      "Fizz\n",
      "73\n",
      "74\n",
      "FizzBuzz\n",
      "76\n",
      "77\n",
      "Fizz\n",
      "79\n",
      "Buzz\n",
      "Fizz\n",
      "82\n",
      "83\n",
      "Fizz\n",
      "Buzz\n",
      "86\n",
      "Fizz\n",
      "88\n",
      "89\n",
      "FizzBuzz\n",
      "91\n",
      "92\n",
      "Fizz\n",
      "94\n",
      "Buzz\n",
      "Fizz\n",
      "97\n",
      "98\n",
      "Fizz\n",
      "Buzz\n"
     ]
    }
   ],
   "source": [
    "def print_nums():\n",
    "    for i in range(1, 101):\n",
    "        div_3 = i % 3 == 0\n",
    "        div_5 = i % 5 == 0\n",
    "        if div_3 and div_5:\n",
    "            msg = 'FizzBuzz'\n",
    "        elif div_3:\n",
    "            msg = 'Fizz'\n",
    "        elif div_5:\n",
    "            msg = 'Buzz'\n",
    "        else:\n",
    "            msg = i\n",
    "        print(msg)\n",
    "print_nums()"
   ]
  },
  {
   "cell_type": "markdown",
   "metadata": {},
   "source": [
    "# Problem 2\n",
    "\n",
    "Using `matplotlib.pyplot`, plot $ \\sin(x) $ versus $ x $ from $0$ to $4\\pi$.  I suggest making your life easier and use `numpy` as well."
   ]
  },
  {
   "cell_type": "code",
   "execution_count": 7,
   "metadata": {},
   "outputs": [
    {
     "data": {
      "image/png": "[encoded data removed]",
      "text/plain": [
       "<Figure size 432x288 with 1 Axes>"
      ]
     },
     "metadata": {
      "needs_background": "light"
     },
     "output_type": "display_data"
    }
   ],
   "source": [
    "import matplotlib.pyplot as plt\n",
    "\n",
    "fig, ax = plt.subplots()\n",
    "\n",
    "x_range = (0, 4 * np.pi)\n",
    "x = np.linspace(*x_range, 100)\n",
    "y = np.sin(x)\n",
    "\n",
    "ax.plot(x, y, 'k-')\n",
    "ax.set_xlim(x_range)\n",
    "\n",
    "plt.show()"
   ]
  },
  {
   "cell_type": "markdown",
   "metadata": {},
   "source": [
    "# Problem 3"
   ]
  },
  {
   "cell_type": "markdown",
   "metadata": {},
   "source": [
    "### Part A\n",
    "\n",
    "Correct this class definition, then instantiate a `Cat`."
   ]
  },
  {
   "cell_type": "code",
   "execution_count": 8,
   "metadata": {},
   "outputs": [],
   "source": [
    "class Cat:\n",
    "    \n",
    "    def __init__(self, name, weight):\n",
    "        self.name = name\n",
    "        self.weight = weight\n",
    "\n",
    "cat = Cat('addie', 12)"
   ]
  },
  {
   "cell_type": "markdown",
   "metadata": {},
   "source": [
    "### Part B\n",
    "\n",
    "Write a class `Car` that takes 3 arguments and assigns them as attributes: make, model, year.  Give every car a position of 0 initially.  The `Car` class must also have a `drive` method that changes the position of the car by a value given as an argument.  You can assume the car moves in only one dimension."
   ]
  },
  {
   "cell_type": "code",
   "execution_count": 9,
   "metadata": {},
   "outputs": [],
   "source": [
    "class Car:\n",
    "    \n",
    "    def __init__(self, make, model, year):\n",
    "        self.make = make\n",
    "        self.model = model\n",
    "        self.year = year\n",
    "        \n",
    "        # initial position\n",
    "        self.pos = 0\n",
    "        \n",
    "    def drive(self, distance):\n",
    "        self.pos += distance"
   ]
  },
  {
   "cell_type": "markdown",
   "metadata": {},
   "source": [
    "### Part C\n",
    "\n",
    "Create an instance of your `Car` class.  Move the car by 5 units by calling its drive method.  Add a `registration` method to your Car class that prints the make, model, and year of a Car instance (this can be done without redefining your Car class!).  Call the registration method of your Car instance."
   ]
  },
  {
   "cell_type": "code",
   "execution_count": 10,
   "metadata": {},
   "outputs": [
    {
     "name": "stdout",
     "output_type": "stream",
     "text": [
      "Ford : Taurus : 2016\n"
     ]
    }
   ],
   "source": [
    "def registration(self):\n",
    "    print(f'{self.make} : {self.model} : {self.year}')\n",
    "\n",
    "Car.registration = registration  \n",
    "\n",
    "car = Car('Ford', 'Taurus', 2016)\n",
    "car.drive(5)\n",
    "\n",
    "car.registration()"
   ]
  },
  {
   "cell_type": "markdown",
   "metadata": {},
   "source": [
    "# Problem 4\n",
    "\n",
    "Download the Old Faithful data located [here](http://www.stat.cmu.edu/~larry/all-of-statistics/=data/faithful.dat).  Use python to read in this data and plot it using `matplotlib` with appropriate labels.  You may use default python or any of the canonical 3rd party packages discussed in class (numpy, etc.)."
   ]
  },
  {
   "cell_type": "code",
   "execution_count": 11,
   "metadata": {},
   "outputs": [
    {
     "data": {
      "image/png": "[encoded data removed]",
      "text/plain": [
       "<Figure size 432x288 with 1 Axes>"
      ]
     },
     "metadata": {
      "needs_background": "light"
     },
     "output_type": "display_data"
    }
   ],
   "source": [
    "dt = [('eruptions', np.float32), ('waiting', np.int8)]\n",
    "data = np.loadtxt('faithful.dat', usecols=(1, 2), skiprows=26, dtype=dt)\n",
    "\n",
    "fig, ax = plt.subplots()\n",
    "\n",
    "ax.plot(data['eruptions'], data['waiting'], 'ko')\n",
    "\n",
    "ax.set_xlabel('eruption duration (min)')\n",
    "ax.set_ylabel('waiting time (min?)')\n",
    "\n",
    "plt.show()"
   ]
  },
  {
   "cell_type": "markdown",
   "metadata": {},
   "source": [
    "# Problem 5\n",
    "\n",
    "Create a `5`x`10` `numpy` array filled with elements that were sampled from a standard normal distribution.  Print this array.\n",
    "\n",
    "Then, with proper list slicing, print the 2nd column then the 4th row of this array.  Compare with the original array to ensure you are doing this correctly. (Note: python indexing starts at 0, so the 2nd column is after the 0th and 1st columns :-) )"
   ]
  },
  {
   "cell_type": "code",
   "execution_count": 12,
   "metadata": {},
   "outputs": [
    {
     "name": "stdout",
     "output_type": "stream",
     "text": [
      "[[ 0.53684177 -0.17834743 -1.30398646  1.72079655  0.07282799 -0.38312294\n",
      "   1.15001666  0.04999475  1.39312071  0.56981414]\n",
      " [-0.45659003  0.29544057 -1.82455429  0.0080609  -1.04440303  1.79717248\n",
      "   0.34221303 -0.65475945  0.64102631  0.47507125]\n",
      " [ 0.62239483 -1.03742627 -0.05599198  0.2396508   0.45005769  1.58718911\n",
      "  -0.87591022  2.58302498  0.14762907  1.31889544]\n",
      " [-0.76666892 -1.057916   -0.81573072  1.35768563  0.72464158  1.50057125\n",
      "   0.44192539 -1.35189318  1.05932836  0.58485916]\n",
      " [-1.05175702  1.63759381  0.73868482  0.49322457  1.10018334 -0.38480344\n",
      "   0.77054779 -2.87061003  1.4694499   1.16240156]]\n",
      "[-1.30398646 -1.82455429 -0.05599198 -0.81573072  0.73868482]\n",
      "[-1.05175702  1.63759381  0.73868482  0.49322457  1.10018334 -0.38480344\n",
      "  0.77054779 -2.87061003  1.4694499   1.16240156]\n"
     ]
    }
   ],
   "source": [
    "mu = 0\n",
    "std = 1\n",
    "norm_arr = np.random.normal(mu, std, (5, 10))\n",
    "\n",
    "print(norm_arr)\n",
    "\n",
    "# 2nd column (but actually the 3rd at the 2nd index...)\n",
    "print(norm_arr[:, 2])\n",
    "\n",
    "# 4th row (but actually the 5th row...)\n",
    "print(norm_arr[4])"
   ]
  },
  {
   "cell_type": "markdown",
   "metadata": {},
   "source": [
    "# Problem 6 "
   ]
  },
  {
   "cell_type": "markdown",
   "metadata": {},
   "source": [
    "Sample 500 numbers from a poisson distribution ($ \\lambda = 7 $) using a single function call from `numpy.random`.  Take a look at the [docs](https://docs.scipy.org/doc//numpy-1.14.0/reference/routines.random.html).  Then, calculate the mean and variance using numpy functions as well.  Again, there is [documentation for this](https://numpy.org/doc/stable/reference/routines.statistics.html)."
   ]
  },
  {
   "cell_type": "code",
   "execution_count": 13,
   "metadata": {},
   "outputs": [
    {
     "name": "stdout",
     "output_type": "stream",
     "text": [
      "mean: 7.006\n",
      "variance: 7.145963999999999\n"
     ]
    }
   ],
   "source": [
    "lam = 7\n",
    "pois_arr = np.random.poisson(lam, 500)\n",
    "\n",
    "print(f'mean: {pois_arr.mean()}')\n",
    "print(f'variance: {pois_arr.var()}')"
   ]
  },
  {
   "cell_type": "markdown",
   "metadata": {},
   "source": [
    "# Problem 7\n",
    "\n",
    "Briefly summarize your previous programming experience.  How much of that was with python?  About how long did this assignment take you?  (There is no wrong answer, we just want an idea of how to tailor the assignments.)"
   ]
  },
  {
   "cell_type": "markdown",
   "metadata": {},
   "source": [
    "> I have been coding for a few (3-4) years, but I have been focusing on Python seriously for only about 2 years. I am quite comfortable with Python. A lot of this experience was done within my research, however I also do a lot of programming for fun unrelated to science.\n",
    ">\n",
    "> This assignment took only about an hour, mostly because I was stuck on 3(c). The rest was extremely straightforward for someone with Python experience."
   ]
  }
 ],
 "metadata": {
  "kernelspec": {
   "display_name": "Python 3",
   "language": "python",
   "name": "python3"
  },
  "language_info": {
   "codemirror_mode": {
    "name": "ipython",
    "version": 3
   },
   "file_extension": ".py",
   "mimetype": "text/x-python",
   "name": "python",
   "nbconvert_exporter": "python",
   "pygments_lexer": "ipython3",
   "version": "3.8.4"
  }
 },
 "nbformat": 4,
 "nbformat_minor": 4
}
